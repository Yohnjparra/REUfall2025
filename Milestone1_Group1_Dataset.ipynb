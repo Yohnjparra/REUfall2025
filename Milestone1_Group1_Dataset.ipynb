{
  "cells": [
    {
      "cell_type": "markdown",
      "source": [
        "# Project: Deploy DL Model on Web & Mobile Using TensorFlow\n",
        "---\n",
        "## Milestone 1: Build an image classifier\n",
        "---\n",
        "\n"
      ],
      "metadata": {
        "id": "a2jji3LQ0LAp"
      }
    },
    {
      "cell_type": "code",
      "source": [
        "from datetime import date\n",
        "from datetime import datetime\n",
        "\n",
        "current_date = date.today()\n",
        "print(\"Today's date:\", current_date)"
      ],
      "outputs": [
        {
          "output_type": "stream",
          "name": "stdout",
          "text": [
            "Today's date: 2021-01-16\n"
          ]
        }
      ],
      "execution_count": null,
      "metadata": {
        "id": "8LRWAJYt4jv8",
        "colab": {
          "base_uri": "https://localhost:8080/"
        },
        "outputId": "ae7a4832-8c89-4b5e-a97c-765b8aafb0b0"
      }
    },
    {
      "cell_type": "code",
      "source": [
        "now1 = datetime.now()\n",
        "\n",
        "start_time = now1.strftime(\"%H:%M:%S\")\n",
        "print(\"Start Time =\", start_time)"
      ],
      "outputs": [
        {
          "output_type": "stream",
          "name": "stdout",
          "text": [
            "Start Time = 18:33:34\n"
          ]
        }
      ],
      "execution_count": null,
      "metadata": {
        "id": "Q1Y5mbjxwm_-",
        "colab": {
          "base_uri": "https://localhost:8080/"
        },
        "outputId": "f2d9b669-9265-446a-fd92-6d9e00e1b67c"
      }
    },
    {
      "cell_type": "code",
      "source": [
        "# run this once (each session) if `watermark` library is not loaded, then comment out\n",
        "# If you see errors for the library albumentations and datascience, it can be ignored. These libraries are not used for this project.\n",
        "!pip install watermark tensorflow==2.3.* -q"
      ],
      "outputs": [
        {
          "output_type": "stream",
          "name": "stdout",
          "text": [
            "\u001b[K     |████████████████████████████████| 320.4MB 55kB/s \n",
            "\u001b[K     |████████████████████████████████| 20.1MB 81.6MB/s \n",
            "\u001b[K     |████████████████████████████████| 460kB 58.7MB/s \n",
            "\u001b[31mERROR: datascience 0.10.6 has requirement folium==0.2.1, but you'll have folium 0.8.3 which is incompatible.\u001b[0m\n",
            "\u001b[31mERROR: albumentations 0.1.12 has requirement imgaug<0.2.7,>=0.2.5, but you'll have imgaug 0.2.9 which is incompatible.\u001b[0m\n",
            "\u001b[?25h"
          ]
        }
      ],
      "execution_count": null,
      "metadata": {
        "id": "KFh12cb80zbE",
        "colab": {
          "base_uri": "https://localhost:8080/"
        },
        "outputId": "ada2b113-2c6f-4836-e29d-e44d6a739d0b"
      }
    },
    {
      "cell_type": "code",
      "source": [
        "# import libraries\n",
        "import requests\n",
        "import glob\n",
        "from io import BytesIO\n",
        "import numpy as np\n",
        "import os\n",
        "import shutil\n",
        "import pprint\n",
        "import json\n",
        "from pprint import pprint\n"
      ],
      "outputs": [],
      "execution_count": null,
      "metadata": {
        "id": "KF2VkBMxzqmr"
      }
    },
    {
      "cell_type": "code",
      "source": [
        "import IPython.display as display\n",
        "from PIL import Image\n",
        "import numpy as np\n",
        "import matplotlib.pyplot as plt\n",
        "import os"
      ],
      "outputs": [],
      "execution_count": null,
      "metadata": {
        "id": "fgQANa-S0gAQ"
      }
    },
    {
      "cell_type": "code",
      "source": [
        "import tensorflow as tf\n",
        "import pathlib\n",
        "import tensorflow_hub as hub"
      ],
      "outputs": [],
      "execution_count": null,
      "metadata": {
        "id": "wFtsAWFB4887"
      }
    },
    {
      "cell_type": "code",
      "source": [
        "import watermark\n",
        "%load_ext watermark\n",
        "#%reload_ext watermark"
      ],
      "outputs": [],
      "execution_count": null,
      "metadata": {
        "id": "WiMSleV30kAE"
      }
    },
    {
      "cell_type": "code",
      "source": [
        "# see version of system, python and libraries\n",
        "%watermark -n -v -m -g -iv"
      ],
      "outputs": [
        {
          "output_type": "stream",
          "name": "stdout",
          "text": [
            "PIL.Image      7.0.0\n",
            "watermark      2.0.2\n",
            "tensorflow_hub 0.11.0\n",
            "requests       2.23.0\n",
            "numpy          1.19.5\n",
            "tensorflow     2.3.2\n",
            "json           2.0.9\n",
            "Sat Jan 16 2021 \n",
            "\n",
            "CPython 3.6.9\n",
            "IPython 5.5.0\n",
            "\n",
            "compiler   : GCC 8.4.0\n",
            "system     : Linux\n",
            "release    : 4.19.112+\n",
            "machine    : x86_64\n",
            "processor  : x86_64\n",
            "CPU cores  : 2\n",
            "interpreter: 64bit\n",
            "Git hash   :\n"
          ]
        }
      ],
      "execution_count": null,
      "metadata": {
        "id": "LbstfaBp0qR1",
        "colab": {
          "base_uri": "https://localhost:8080/"
        },
        "outputId": "c777afc5-c36d-4a2b-9f29-c013c1792079"
      }
    },
    {
      "cell_type": "code",
      "source": [
        "tf.__version__\n"
      ],
      "outputs": [
        {
          "output_type": "execute_result",
          "execution_count": 9,
          "data": {
            "application/vnd.google.colaboratory.intrinsic+json": {
              "type": "string"
            },
            "text/plain": "'2.3.2'"
          },
          "metadata": {
            "tags": []
          }
        }
      ],
      "execution_count": null,
      "metadata": {
        "id": "vdGngfwTb-LH",
        "colab": {
          "base_uri": "https://localhost:8080/",
          "height": 35
        },
        "outputId": "9e2e6fcb-851d-4b61-b9e7-19fefc0b4fe1"
      }
    },
    {
      "cell_type": "markdown",
      "source": [
        "# Running GPU on Colab\n",
        "Ensure that GPU is running on this Colab notebook by following below steps.\n",
        "1. Colab Menu: Select \"Runtime\"\n",
        "2. \"Change runtime type\"\n",
        "3. Select \"Hardware Accelerator\" = GPU\n",
        "4. Save"
      ],
      "metadata": {
        "id": "kEqdRy-jl_7K"
      }
    },
    {
      "cell_type": "code",
      "source": [
        "# confirm that GPU is running\n",
        "tf.config.list_physical_devices('GPU')\n"
      ],
      "outputs": [
        {
          "output_type": "execute_result",
          "execution_count": 10,
          "data": {
            "text/plain": "[PhysicalDevice(name='/physical_device:GPU:0', device_type='GPU')]"
          },
          "metadata": {
            "tags": []
          }
        }
      ],
      "execution_count": null,
      "metadata": {
        "id": "nDISycD15Z0J",
        "colab": {
          "base_uri": "https://localhost:8080/"
        },
        "outputId": "178e0cc9-5885-4a7e-f460-6599a89696f4"
      }
    },
    {
      "cell_type": "code",
      "source": [
        "tf.test.gpu_device_name()"
      ],
      "outputs": [
        {
          "output_type": "execute_result",
          "execution_count": 11,
          "data": {
            "application/vnd.google.colaboratory.intrinsic+json": {
              "type": "string"
            },
            "text/plain": "'/device:GPU:0'"
          },
          "metadata": {
            "tags": []
          }
        }
      ],
      "execution_count": null,
      "metadata": {
        "id": "Cd-AUp875hQP",
        "colab": {
          "base_uri": "https://localhost:8080/",
          "height": 35
        },
        "outputId": "94bbfd0a-857c-4ffc-e5d8-4b8d169d929c"
      }
    },
    {
      "cell_type": "markdown",
      "source": [
        "# Setup Project Folder"
      ],
      "metadata": {
        "id": "twHKZbDln0Rw"
      }
    },
    {
      "cell_type": "code",
      "source": [
        "!pwd"
      ],
      "outputs": [
        {
          "output_type": "stream",
          "name": "stdout",
          "text": [
            "/content\n"
          ]
        }
      ],
      "execution_count": null,
      "metadata": {
        "id": "4JqBBSuGnJqj",
        "colab": {
          "base_uri": "https://localhost:8080/"
        },
        "outputId": "2128c48c-b27a-4c71-ebdb-94f641dde8e3"
      }
    },
    {
      "cell_type": "code",
      "source": [
        "!ls -lF"
      ],
      "outputs": [
        {
          "output_type": "stream",
          "name": "stdout",
          "text": [
            "total 4\n",
            "drwxr-xr-x 1 root root 4096 Jan  6 18:10 sample_data/\n"
          ]
        }
      ],
      "execution_count": null,
      "metadata": {
        "id": "nq0oWuqfp1Bt",
        "colab": {
          "base_uri": "https://localhost:8080/"
        },
        "outputId": "c8616962-ed3f-4733-f8fb-902bf13c42fa"
      }
    },
    {
      "cell_type": "code",
      "source": [
        "PROJECT_NAME = \"project_food_dl\""
      ],
      "outputs": [],
      "execution_count": null,
      "metadata": {
        "id": "aULYc0cdn4P4"
      }
    },
    {
      "cell_type": "code",
      "source": [
        "# create a sub-directory for the data\n",
        "# run this once and comment out\n",
        "!mkdir -p {PROJECT_NAME}"
      ],
      "outputs": [],
      "execution_count": null,
      "metadata": {
        "id": "7Z1kAeYv1XLt"
      }
    },
    {
      "cell_type": "code",
      "source": [
        "!ls -lF"
      ],
      "outputs": [
        {
          "output_type": "stream",
          "name": "stdout",
          "text": [
            "total 8\n",
            "drwxr-xr-x 2 root root 4096 Jan 16 18:34 project_food_dl/\n",
            "drwxr-xr-x 1 root root 4096 Jan  6 18:10 sample_data/\n"
          ]
        }
      ],
      "execution_count": null,
      "metadata": {
        "id": "z03s6v80oOxy",
        "colab": {
          "base_uri": "https://localhost:8080/"
        },
        "outputId": "59571534-e644-4734-b1da-8f08641f5e49"
      }
    },
    {
      "cell_type": "code",
      "source": [
        "!ls -lF {PROJECT_NAME}"
      ],
      "outputs": [
        {
          "output_type": "stream",
          "name": "stdout",
          "text": [
            "total 0\n"
          ]
        }
      ],
      "execution_count": null,
      "metadata": {
        "id": "UJuUSZjtWH75",
        "colab": {
          "base_uri": "https://localhost:8080/"
        },
        "outputId": "ea663755-5218-4fb1-853b-ab8cc7e3d2f6"
      }
    },
    {
      "cell_type": "code",
      "source": [
        "# remove log files from models\n",
        "!rm -rf {PROJECT_NAME}/artifacts\n"
      ],
      "outputs": [],
      "execution_count": null,
      "metadata": {
        "id": "9LjF61RUWS6V"
      }
    },
    {
      "cell_type": "code",
      "source": [
        "!rm -rf {PROJECT_NAME}/data/food-101.tar.gz"
      ],
      "outputs": [],
      "execution_count": null,
      "metadata": {
        "id": "ZRLwRz78WkJK"
      }
    },
    {
      "cell_type": "code",
      "source": [
        "!rm -f artifacts.zip"
      ],
      "outputs": [],
      "execution_count": null,
      "metadata": {
        "id": "HX3Kz2FvYPDM"
      }
    },
    {
      "cell_type": "code",
      "source": [
        "# create a sub-directory for data\n",
        "!mkdir -p {PROJECT_NAME}/data"
      ],
      "outputs": [],
      "execution_count": null,
      "metadata": {
        "id": "I6yPDTs4mxg3"
      }
    },
    {
      "cell_type": "code",
      "source": [
        "!ls {PROJECT_NAME} -lF"
      ],
      "outputs": [
        {
          "output_type": "stream",
          "name": "stdout",
          "text": [
            "total 4\n",
            "drwxr-xr-x 2 root root 4096 Jan 16 18:34 data/\n"
          ]
        }
      ],
      "execution_count": null,
      "metadata": {
        "id": "6ucUB9MQoiF9",
        "colab": {
          "base_uri": "https://localhost:8080/"
        },
        "outputId": "b8a47573-0003-4345-a3bb-9e0ae91ada20"
      }
    },
    {
      "cell_type": "markdown",
      "source": [
        "Artifacts is common ML term used to describe the output created by the training process.\n",
        "\n",
        "The output could be a fully trained model, a model checkpoint (for resuming training later), or simply a file created during the training process such as an image generated while training a Generative Adversarial Network (GAN).  \n",
        "In the case of a Deep Learning model, the model artifacts are the trained weights stored in a binary format.\n"
      ],
      "metadata": {
        "id": "gYgWLloApHWI"
      }
    },
    {
      "cell_type": "code",
      "source": [
        "# create a sub-directory for artifacts\n",
        "!mkdir -p {PROJECT_NAME}/artifacts"
      ],
      "outputs": [],
      "execution_count": null,
      "metadata": {
        "id": "KTWGkG26ok36"
      }
    },
    {
      "cell_type": "code",
      "source": [
        "!ls {PROJECT_NAME} -lF"
      ],
      "outputs": [
        {
          "output_type": "stream",
          "name": "stdout",
          "text": [
            "total 8\n",
            "drwxr-xr-x 2 root root 4096 Jan 16 18:34 artifacts/\n",
            "drwxr-xr-x 2 root root 4096 Jan 16 18:34 data/\n"
          ]
        }
      ],
      "execution_count": null,
      "metadata": {
        "id": "7_x5OW_dowRr",
        "colab": {
          "base_uri": "https://localhost:8080/"
        },
        "outputId": "5b0965bb-cc2c-4e7c-f522-bc73cb9ca61c"
      }
    },
    {
      "cell_type": "markdown",
      "source": [
        "# Get Data"
      ],
      "metadata": {
        "id": "Ou6WJYn28B_B"
      }
    },
    {
      "cell_type": "code",
      "source": [
        "! wget https://lp-prod-resources.s3-us-west-2.amazonaws.com/other/Deploying+a+Deep+Learning+Model+on+Web+and+Mobile+Applications+Using+TensorFlow/Food+101+-+Data+Subset.zip -P {PROJECT_NAME}/data\n"
      ],
      "outputs": [
        {
          "output_type": "stream",
          "name": "stdout",
          "text": [
            "--2021-01-16 18:34:54--  https://lp-prod-resources.s3-us-west-2.amazonaws.com/other/Deploying+a+Deep+Learning+Model+on+Web+and+Mobile+Applications+Using+TensorFlow/Food+101+-+Data+Subset.zip\n",
            "Resolving lp-prod-resources.s3-us-west-2.amazonaws.com (lp-prod-resources.s3-us-west-2.amazonaws.com)... 52.218.152.137\n",
            "Connecting to lp-prod-resources.s3-us-west-2.amazonaws.com (lp-prod-resources.s3-us-west-2.amazonaws.com)|52.218.152.137|:443... connected.\n",
            "HTTP request sent, awaiting response... 200 OK\n",
            "Length: 153668842 (147M) [application/zip]\n",
            "Saving to: ‘project_food_dl/data/Food+101+-+Data+Subset.zip’\n",
            "\n",
            "Food+101+-+Data+Sub 100%[===================>] 146.55M  82.7MB/s    in 1.8s    \n",
            "\n",
            "2021-01-16 18:34:56 (82.7 MB/s) - ‘project_food_dl/data/Food+101+-+Data+Subset.zip’ saved [153668842/153668842]\n",
            "\n"
          ]
        }
      ],
      "execution_count": null,
      "metadata": {
        "id": "pFzm8-JUiLiB",
        "colab": {
          "base_uri": "https://localhost:8080/"
        },
        "outputId": "fc636fa5-c497-4089-f7d1-0b0bcefbdbc3"
      }
    },
    {
      "cell_type": "code",
      "source": [
        "# unpack the data\n",
        "# run only once, then comment out\n",
        "\n",
        "!unzip -q {PROJECT_NAME}/data/Food+101+-+Data+Subset.zip -d {PROJECT_NAME}/data\n"
      ],
      "outputs": [],
      "execution_count": null,
      "metadata": {
        "id": "stqqJc561hxH"
      }
    },
    {
      "cell_type": "code",
      "source": [],
      "outputs": [],
      "execution_count": null,
      "metadata": {
        "id": "kRKI5sT3SFtP"
      }
    },
    {
      "cell_type": "code",
      "source": [
        "!ls {PROJECT_NAME} -lF"
      ],
      "outputs": [
        {
          "output_type": "stream",
          "name": "stdout",
          "text": [
            "total 8\n",
            "drwxr-xr-x 2 root root 4096 Jan 16 18:34 artifacts/\n",
            "drwxr-xr-x 4 root root 4096 Jan 16 18:34 data/\n"
          ]
        }
      ],
      "execution_count": null,
      "metadata": {
        "id": "ltGPhCJutcK6",
        "colab": {
          "base_uri": "https://localhost:8080/"
        },
        "outputId": "b435615a-46ba-4e7e-f723-c71ebba6d539"
      }
    },
    {
      "cell_type": "code",
      "source": [
        "DATA_DIR = str(PROJECT_NAME)+\"/data/food-101-subset/images\"\n",
        "DATA_DIR = pathlib.Path(DATA_DIR)"
      ],
      "outputs": [],
      "execution_count": null,
      "metadata": {
        "id": "dVzHTT4Y8YBx"
      }
    },
    {
      "cell_type": "code",
      "source": [
        "!rm -rf {DATA_DIR}/.DS_Store"
      ],
      "outputs": [],
      "execution_count": null,
      "metadata": {
        "id": "kFkyQkfcSQn2"
      }
    },
    {
      "cell_type": "code",
      "source": [
        "DATA_DIR\n"
      ],
      "outputs": [
        {
          "output_type": "execute_result",
          "execution_count": 30,
          "data": {
            "text/plain": "PosixPath('project_food_dl/data/food-101-subset/images')"
          },
          "metadata": {
            "tags": []
          }
        }
      ],
      "execution_count": null,
      "metadata": {
        "id": "oqZKhFwR8bDW",
        "colab": {
          "base_uri": "https://localhost:8080/"
        },
        "outputId": "7b86a42d-2f73-4155-fb8a-16f8c7937f69"
      }
    },
    {
      "cell_type": "markdown",
      "source": [
        "# Look at dataset"
      ],
      "metadata": {
        "id": "ojoU1UKa3t77"
      }
    },
    {
      "cell_type": "code",
      "source": [
        "# look at folder names\n",
        "!ls -lah {DATA_DIR}/ | head"
      ],
      "outputs": [
        {
          "output_type": "stream",
          "name": "stdout",
          "text": [
            "total 128K\n",
            "drwxr-xr-x 5 root root 4.0K Jan 16 18:34 .\n",
            "drwxr-xr-x 3 root root 4.0K Dec  5 15:07 ..\n",
            "drwxr-xr-x 2 root root  36K Dec  5 15:00 apple_pie\n",
            "drwxr-xr-x 2 root root  36K Dec  5 15:00 caesar_salad\n",
            "drwxr-xr-x 2 root root  36K Dec  5 15:00 falafel\n"
          ]
        }
      ],
      "execution_count": null,
      "metadata": {
        "id": "U4vZy2ti30eX",
        "colab": {
          "base_uri": "https://localhost:8080/"
        },
        "outputId": "77a04b82-27e4-481a-a48c-d1a1d485bb07"
      }
    },
    {
      "cell_type": "code",
      "source": [
        "# look at first five images in first image folder\n",
        "!ls {DATA_DIR}/apple_pie | head -5"
      ],
      "outputs": [
        {
          "output_type": "stream",
          "name": "stdout",
          "text": [
            "1005649.jpg\n",
            "1011328.jpg\n",
            "101251.jpg\n",
            "1014775.jpg\n",
            "1026328.jpg\n"
          ]
        }
      ],
      "execution_count": null,
      "metadata": {
        "id": "kkZmKmUG30qB",
        "colab": {
          "base_uri": "https://localhost:8080/"
        },
        "outputId": "3ecbf74e-434d-484e-d0c8-74d5a53ada3a"
      }
    },
    {
      "cell_type": "code",
      "source": [
        "# find out how many total images there are in database\n",
        "image_count = len(list(DATA_DIR.glob('*/*.jpg')))\n",
        "image_count"
      ],
      "outputs": [
        {
          "output_type": "execute_result",
          "execution_count": 33,
          "data": {
            "text/plain": "3000"
          },
          "metadata": {
            "tags": []
          }
        }
      ],
      "execution_count": null,
      "metadata": {
        "id": "2h1HfkCn304h",
        "colab": {
          "base_uri": "https://localhost:8080/"
        },
        "outputId": "5715b363-dbdd-47dc-e060-063c3132e3bb"
      }
    },
    {
      "cell_type": "code",
      "source": [
        "# find out how many different classes there are\n",
        "ALL_CLASS_NAMES = sorted(np.array([item.name for item in DATA_DIR.glob('*')]))\n",
        "print(len(ALL_CLASS_NAMES))"
      ],
      "outputs": [
        {
          "output_type": "stream",
          "name": "stdout",
          "text": [
            "3\n"
          ]
        }
      ],
      "execution_count": null,
      "metadata": {
        "id": "biXjyk-VvrGP",
        "colab": {
          "base_uri": "https://localhost:8080/"
        },
        "outputId": "526e7fba-71d4-4d96-ec7d-6c30a776d8f2"
      }
    },
    {
      "cell_type": "code",
      "source": [
        "ALL_CLASS_NAMES[:10]"
      ],
      "outputs": [
        {
          "output_type": "execute_result",
          "execution_count": 35,
          "data": {
            "text/plain": "['apple_pie', 'caesar_salad', 'falafel']"
          },
          "metadata": {
            "tags": []
          }
        }
      ],
      "execution_count": null,
      "metadata": {
        "id": "cLaB5XjClydq",
        "colab": {
          "base_uri": "https://localhost:8080/"
        },
        "outputId": "395c6ff2-365e-40d8-f383-13b80db1771b"
      }
    },
    {
      "cell_type": "code",
      "source": [
        " USE_CLASS_NAMES = ALL_CLASS_NAMES"
      ],
      "outputs": [],
      "execution_count": null,
      "metadata": {
        "id": "67sN9AFCl-i9"
      }
    },
    {
      "cell_type": "markdown",
      "source": [
        "# Look at Images"
      ],
      "metadata": {
        "id": "cqKpCtdOzx-1"
      }
    },
    {
      "cell_type": "code",
      "source": [
        "class1 = ALL_CLASS_NAMES[0]"
      ],
      "outputs": [],
      "execution_count": null,
      "metadata": {
        "id": "kOSInJ44So4o"
      }
    },
    {
      "cell_type": "code",
      "source": [
        "images = list(DATA_DIR.glob(f'{class1}/*'))\n",
        "\n",
        "for image_path in images[:2]:\n",
        "    # resize image\n",
        "    im = Image.open(str(image_path))\n",
        "    w, h = im.size\n",
        "    print('Image Size (w, h): ', w, \",\",  h)\n",
        "    print (image_path)\n",
        "    percent_resize = 0.5\n",
        "    im = im.resize((int(w*percent_resize), int(h*percent_resize)))\n",
        "    display.display(im)"
      ],
      "outputs": [
        {
          "output_type": "stream",
          "name": "stdout",
          "text": [
            "Image Size (w, h):  512 , 512\n",
            "project_food_dl/data/food-101-subset/images/apple_pie/3277765.jpg\n"
          ]
        },
        {
          "output_type": "display_data",
          "data": {
            "image/png": "[encoded data removed]",
            "text/plain": "<PIL.Image.Image image mode=RGB size=256x256 at 0x7FDD30538DA0>"
          },
          "metadata": {
            "tags": []
          }
        },
        {
          "output_type": "stream",
          "name": "stdout",
          "text": [
            "Image Size (w, h):  512 , 384\n",
            "project_food_dl/data/food-101-subset/images/apple_pie/854595.jpg\n"
          ]
        },
        {
          "output_type": "display_data",
          "data": {
            "image/png": "[encoded data removed]",
            "text/plain": "<PIL.Image.Image image mode=RGB size=256x192 at 0x7FDD30541208>"
          },
          "metadata": {
            "tags": []
          }
        }
      ],
      "execution_count": null,
      "metadata": {
        "id": "DttFFRdw91st",
        "colab": {
          "base_uri": "https://localhost:8080/",
          "height": 533
        },
        "outputId": "9a99228a-3e2a-4b1c-93d9-5fd783448e01"
      }
    },
    {
      "cell_type": "code",
      "source": [],
      "outputs": [],
      "execution_count": null,
      "metadata": {
        "id": "VNlINYE6p0Qy"
      }
    },
    {
      "cell_type": "markdown",
      "source": [
        "# Setup for Training Model\n"
      ],
      "metadata": {
        "id": "q-Jx2g1O4KeW"
      }
    },
    {
      "cell_type": "markdown",
      "source": [
        "The `ImageDataGenerator` is used to create training and validation splits.\n",
        "It also has several builtin image preprocessing transformations.\n",
        "\n",
        "https://www.tensorflow.org/api_docs/python/tf/keras/preprocessing/image/ImageDataGenerator"
      ],
      "metadata": {
        "id": "SoQAk1Nve5QJ"
      }
    },
    {
      "cell_type": "code",
      "source": [
        "BATCH_SIZE = 32\n",
        "IMG_HEIGHT = 224\n",
        "IMG_WIDTH = 224\n",
        "STEPS_PER_EPOCH = np.ceil(image_count/BATCH_SIZE)\n",
        "\n",
        "print(\"Number of classes we are training: \" ,len(USE_CLASS_NAMES))\n",
        "print(\"\\nList of classes\")\n",
        "list(USE_CLASS_NAMES)[:10]"
      ],
      "outputs": [
        {
          "output_type": "stream",
          "name": "stdout",
          "text": [
            "Number of classes we are training:  3\n",
            "\n",
            "List of classes\n"
          ]
        },
        {
          "output_type": "execute_result",
          "execution_count": 39,
          "data": {
            "text/plain": "['apple_pie', 'caesar_salad', 'falafel']"
          },
          "metadata": {
            "tags": []
          }
        }
      ],
      "execution_count": null,
      "metadata": {
        "colab": {
          "base_uri": "https://localhost:8080/"
        },
        "id": "gzfV7uHAdjzu",
        "outputId": "31ecbee8-c0f1-4a7b-add3-3740c0ca1605"
      }
    },
    {
      "cell_type": "code",
      "source": [
        "def get_image_data_generator(preprocessing_function=tf.keras.applications.mobilenet_v2.preprocess_input ):\n",
        "  image_generator = tf.keras.preprocessing.image.ImageDataGenerator(\n",
        "    validation_split=0.2,\n",
        "    preprocessing_function=preprocessing_function\n",
        "  )\n",
        "\n",
        "\n",
        "\n",
        "  # create a data generator object with options (location of images, batch size, option to shuffle, etc)\n",
        "  image_data_gen = image_generator.flow_from_directory(\n",
        "      directory=str(DATA_DIR),\n",
        "      batch_size=BATCH_SIZE,\n",
        "      shuffle=True,\n",
        "      target_size=(IMG_HEIGHT, IMG_WIDTH),\n",
        "      classes = list(USE_CLASS_NAMES)\n",
        "      )\n",
        "\n",
        "  return image_data_gen"
      ],
      "outputs": [],
      "execution_count": null,
      "metadata": {
        "id": "kZNjd_pJc57G"
      }
    },
    {
      "cell_type": "code",
      "source": [
        "image_data_gen = get_image_data_generator (preprocessing_function=tf.keras.applications.mobilenet_v2.preprocess_input)"
      ],
      "outputs": [
        {
          "output_type": "stream",
          "name": "stdout",
          "text": [
            "Found 3000 images belonging to 3 classes.\n"
          ]
        }
      ],
      "execution_count": null,
      "metadata": {
        "colab": {
          "base_uri": "https://localhost:8080/"
        },
        "id": "akQolrnKdUrV",
        "outputId": "cf0591c9-10e0-419a-a432-4298f2e5e0a8"
      }
    },
    {
      "cell_type": "markdown",
      "source": [
        "# Save list of classes as `classes.json`"
      ],
      "metadata": {
        "id": "H-VZbiM9MDuh"
      }
    },
    {
      "cell_type": "code",
      "source": [
        "image_data_gen.num_classes"
      ],
      "outputs": [
        {
          "output_type": "execute_result",
          "execution_count": 42,
          "data": {
            "text/plain": "3"
          },
          "metadata": {
            "tags": []
          }
        }
      ],
      "execution_count": null,
      "metadata": {
        "id": "DgpsH0i6rDW-",
        "colab": {
          "base_uri": "https://localhost:8080/"
        },
        "outputId": "3a5a8135-3ab2-4b44-fb6f-a58fea7ca883"
      }
    },
    {
      "cell_type": "code",
      "source": [
        "image_data_gen.class_indices.keys()"
      ],
      "outputs": [
        {
          "output_type": "execute_result",
          "execution_count": 43,
          "data": {
            "text/plain": "dict_keys(['apple_pie', 'caesar_salad', 'falafel'])"
          },
          "metadata": {
            "tags": []
          }
        }
      ],
      "execution_count": null,
      "metadata": {
        "id": "eFmz5pkNKpz1",
        "colab": {
          "base_uri": "https://localhost:8080/"
        },
        "outputId": "8e28c64d-be19-49fb-f850-2500d093aa24"
      }
    },
    {
      "cell_type": "code",
      "source": [
        "list_of_classes = list(image_data_gen.class_indices.keys())"
      ],
      "outputs": [],
      "execution_count": null,
      "metadata": {
        "id": "PqHkvoFzLFA7"
      }
    },
    {
      "cell_type": "code",
      "source": [
        "list_of_classes"
      ],
      "outputs": [
        {
          "output_type": "execute_result",
          "execution_count": 45,
          "data": {
            "text/plain": "['apple_pie', 'caesar_salad', 'falafel']"
          },
          "metadata": {
            "tags": []
          }
        }
      ],
      "execution_count": null,
      "metadata": {
        "id": "IfwjwtgdLJey",
        "colab": {
          "base_uri": "https://localhost:8080/"
        },
        "outputId": "4dc4a335-4e08-47f9-aa20-ef9a25035483"
      }
    },
    {
      "cell_type": "code",
      "source": [
        "with open(f\"{PROJECT_NAME}/artifacts/classes.json\",'w') as f:\n",
        "  json.dump(list_of_classes,f)"
      ],
      "outputs": [],
      "execution_count": null,
      "metadata": {
        "id": "b5NSurxMchjB"
      }
    },
    {
      "cell_type": "markdown",
      "source": [
        "---"
      ],
      "metadata": {
        "id": "0K-dkX_Jgn0R"
      }
    },
    {
      "cell_type": "markdown",
      "source": [
        "# Model Architectures"
      ],
      "metadata": {
        "id": "hJmGNuk5I4WW"
      }
    },
    {
      "cell_type": "markdown",
      "source": [
        "### Model 1:  VGG19 (Baseline)"
      ],
      "metadata": {
        "id": "TnjozD71JVTK"
      }
    },
    {
      "cell_type": "code",
      "source": [
        "?tf.keras.layers.Dense"
      ],
      "outputs": [],
      "execution_count": null,
      "metadata": {
        "id": "teQJB_MfhBUs"
      }
    },
    {
      "cell_type": "code",
      "source": [
        "IMAGE_SHAPE = (IMG_HEIGHT, IMG_WIDTH)\n",
        "\n",
        "# Use VGG19 pretrained on ImageNet\n",
        "base_layers = tf.keras.applications.VGG19(weights='imagenet',include_top=False,input_shape=IMAGE_SHAPE+(3,) )\n",
        "\n",
        "# Add new layers to be finetuned\n",
        "# The last layer, is the classification layer and should match the number of classes in the dataset. The activation should be softmax\n",
        "clf = tf.keras.Sequential([\n",
        "    base_layers\n",
        "    , tf.keras.layers.GlobalAveragePooling2D()\n",
        "    , tf.keras.layers.Dense(1024, activation='relu')\n",
        "    , tf.keras.layers.Dense(image_data_gen.num_classes , name='classification', activation='softmax')\n",
        "])"
      ],
      "outputs": [
        {
          "output_type": "stream",
          "name": "stdout",
          "text": [
            "Downloading data from https://storage.googleapis.com/tensorflow/keras-applications/vgg19/vgg19_weights_tf_dim_ordering_tf_kernels_notop.h5\n",
            "80142336/80134624 [==============================] - 1s 0us/step\n"
          ]
        }
      ],
      "execution_count": null,
      "metadata": {
        "id": "gXwbP2cXsNqD",
        "colab": {
          "base_uri": "https://localhost:8080/"
        },
        "outputId": "6486b2ed-a3d9-4741-ecb6-8bf169d52a3b"
      }
    },
    {
      "cell_type": "code",
      "source": [
        "clf.summary()"
      ],
      "outputs": [
        {
          "output_type": "stream",
          "name": "stdout",
          "text": [
            "Model: \"sequential\"\n",
            "_________________________________________________________________\n",
            "Layer (type)                 Output Shape              Param #   \n",
            "=================================================================\n",
            "vgg19 (Functional)           (None, 7, 7, 512)         20024384  \n",
            "_________________________________________________________________\n",
            "global_average_pooling2d (Gl (None, 512)               0         \n",
            "_________________________________________________________________\n",
            "dense (Dense)                (None, 1024)              525312    \n",
            "_________________________________________________________________\n",
            "classification (Dense)       (None, 3)                 3075      \n",
            "=================================================================\n",
            "Total params: 20,552,771\n",
            "Trainable params: 20,552,771\n",
            "Non-trainable params: 0\n",
            "_________________________________________________________________\n"
          ]
        }
      ],
      "execution_count": null,
      "metadata": {
        "id": "IitJEFKIJfJp",
        "colab": {
          "base_uri": "https://localhost:8080/"
        },
        "outputId": "6f5a6eab-3ee1-459a-e611-09a14c8d921b"
      }
    },
    {
      "cell_type": "code",
      "source": [
        "# freezes the base layers\n",
        "base_layers.trainable = False"
      ],
      "outputs": [],
      "execution_count": null,
      "metadata": {
        "id": "S_JiW81Bn-aJ"
      }
    },
    {
      "cell_type": "code",
      "source": [
        "# notice that after freezing the base layers, the non trainable params are equal to the number of parameters in the base layer\n",
        "clf.summary()"
      ],
      "outputs": [
        {
          "output_type": "stream",
          "name": "stdout",
          "text": [
            "Model: \"sequential\"\n",
            "_________________________________________________________________\n",
            "Layer (type)                 Output Shape              Param #   \n",
            "=================================================================\n",
            "vgg19 (Functional)           (None, 7, 7, 512)         20024384  \n",
            "_________________________________________________________________\n",
            "global_average_pooling2d (Gl (None, 512)               0         \n",
            "_________________________________________________________________\n",
            "dense (Dense)                (None, 1024)              525312    \n",
            "_________________________________________________________________\n",
            "classification (Dense)       (None, 3)                 3075      \n",
            "=================================================================\n",
            "Total params: 20,552,771\n",
            "Trainable params: 528,387\n",
            "Non-trainable params: 20,024,384\n",
            "_________________________________________________________________\n"
          ]
        }
      ],
      "execution_count": null,
      "metadata": {
        "id": "vC2ZF_P6n_2H",
        "colab": {
          "base_uri": "https://localhost:8080/"
        },
        "outputId": "388629b9-5eb0-4d42-e59f-65a4bc56a5ba"
      }
    },
    {
      "cell_type": "code",
      "source": [
        "# Set the model to use Adam optimizer , cross entropy loss, and track accuracy.\n",
        "# Since the dataset has multiple classes, we are using cross entropy loss.\n",
        "clf.compile(\n",
        "  optimizer=tf.keras.optimizers.Adam(),\n",
        "  loss='categorical_crossentropy' ,\n",
        "  metrics=['acc'])"
      ],
      "outputs": [],
      "execution_count": null,
      "metadata": {
        "id": "WK7-iAksvn0s"
      }
    },
    {
      "cell_type": "markdown",
      "source": [
        "#### Model results"
      ],
      "metadata": {
        "id": "h_WTnlVE7pai"
      }
    },
    {
      "cell_type": "code",
      "source": [
        "# train the model for 5 epochs\n",
        "%%time\n",
        "image_data_gen = get_image_data_generator (preprocessing_function=tf.keras.applications.vgg19.preprocess_input)\n",
        "history = clf.fit(image_data_gen\n",
        "                        ,epochs=5\n",
        "                        ,workers=8\n",
        "                        )\n"
      ],
      "outputs": [
        {
          "output_type": "stream",
          "name": "stdout",
          "text": [
            "Found 3000 images belonging to 3 classes.\n",
            "Epoch 1/5\n",
            "94/94 [==============================] - 15s 158ms/step - loss: 0.8460 - acc: 0.8523\n",
            "Epoch 2/5\n",
            "94/94 [==============================] - 14s 152ms/step - loss: 0.2445 - acc: 0.9370\n",
            "Epoch 3/5\n",
            "94/94 [==============================] - 15s 156ms/step - loss: 0.1585 - acc: 0.9463\n",
            "Epoch 4/5\n",
            "94/94 [==============================] - 15s 161ms/step - loss: 0.0954 - acc: 0.9697\n",
            "Epoch 5/5\n",
            "94/94 [==============================] - 15s 165ms/step - loss: 0.0386 - acc: 0.9837\n",
            "CPU times: user 2min 2s, sys: 7.32 s, total: 2min 9s\n",
            "Wall time: 1min 31s\n"
          ]
        }
      ],
      "execution_count": null,
      "metadata": {
        "id": "0GNh8DMgvoKH",
        "colab": {
          "base_uri": "https://localhost:8080/"
        },
        "outputId": "e2ba90c9-b3ad-49df-c368-32836a98171b"
      }
    },
    {
      "cell_type": "markdown",
      "source": [
        "#### Save model"
      ],
      "metadata": {
        "id": "T0oRWUc7LORx"
      }
    },
    {
      "cell_type": "code",
      "source": [
        "# save the model as `h5` format\n",
        "export_path = str(PROJECT_NAME)+\"/artifacts/model_VGG19.h5\"\n",
        "export_path\n",
        "clf.save(export_path, save_format='h5')\n"
      ],
      "outputs": [],
      "execution_count": null,
      "metadata": {
        "id": "6M1HibRJHBWq"
      }
    },
    {
      "cell_type": "markdown",
      "source": [
        "### Model 2:  ResNet50\n",
        "On your own, train a model using ResNet50."
      ],
      "metadata": {
        "id": "8dE6YQT0mPgk"
      }
    },
    {
      "cell_type": "code",
      "source": [
        "base_layers = tf.keras.applications.ResNet50(weights='imagenet',include_top=False,input_shape=IMAGE_SHAPE+(3,) )\n",
        "\n",
        "# Add new layers to be finetuned\n",
        "# The last layer, is the classification layer and should match the number of classes in the dataset. The activation should be softmax\n",
        "clf = tf.keras.Sequential([\n",
        "    base_layers\n",
        "    , tf.keras.layers.GlobalAveragePooling2D()\n",
        "    , tf.keras.layers.Dense(1024, activation='relu')\n",
        "    , tf.keras.layers.Dense(image_data_gen.num_classes , name='classification', activation='softmax')\n",
        "])\n"
      ],
      "outputs": [
        {
          "output_type": "stream",
          "name": "stdout",
          "text": [
            "Downloading data from https://storage.googleapis.com/tensorflow/keras-applications/resnet/resnet50_weights_tf_dim_ordering_tf_kernels_notop.h5\n",
            "94773248/94765736 [==============================] - 1s 0us/step\n"
          ]
        }
      ],
      "execution_count": null,
      "metadata": {
        "colab": {
          "base_uri": "https://localhost:8080/"
        },
        "id": "4JK0o3hOO4gJ",
        "outputId": "7aecb5d1-ff4c-46da-b0a7-b0e70b4fee9d"
      }
    },
    {
      "cell_type": "code",
      "source": [
        "clf.summary()"
      ],
      "outputs": [
        {
          "output_type": "stream",
          "name": "stdout",
          "text": [
            "Model: \"sequential_1\"\n",
            "_________________________________________________________________\n",
            "Layer (type)                 Output Shape              Param #   \n",
            "=================================================================\n",
            "resnet50 (Functional)        (None, 7, 7, 2048)        23587712  \n",
            "_________________________________________________________________\n",
            "global_average_pooling2d_1 ( (None, 2048)              0         \n",
            "_________________________________________________________________\n",
            "dense_1 (Dense)              (None, 1024)              2098176   \n",
            "_________________________________________________________________\n",
            "classification (Dense)       (None, 3)                 3075      \n",
            "=================================================================\n",
            "Total params: 25,688,963\n",
            "Trainable params: 25,635,843\n",
            "Non-trainable params: 53,120\n",
            "_________________________________________________________________\n"
          ]
        }
      ],
      "execution_count": null,
      "metadata": {
        "colab": {
          "base_uri": "https://localhost:8080/"
        },
        "id": "SPJTcTzYO4bZ",
        "outputId": "faf4c971-26cb-4694-d6bd-3f8611fc2a75"
      }
    },
    {
      "cell_type": "code",
      "source": [
        "# freezes the base layers\n",
        "base_layers.trainable = False"
      ],
      "outputs": [],
      "execution_count": null,
      "metadata": {
        "id": "nAyMGWsbO4Ql"
      }
    },
    {
      "cell_type": "code",
      "source": [
        "# notice that after freezing the base layers, the non trainable params are equal to the number of parameters in the base layer\n",
        "clf.summary()"
      ],
      "outputs": [
        {
          "output_type": "stream",
          "name": "stdout",
          "text": [
            "Model: \"sequential_1\"\n",
            "_________________________________________________________________\n",
            "Layer (type)                 Output Shape              Param #   \n",
            "=================================================================\n",
            "resnet50 (Functional)        (None, 7, 7, 2048)        23587712  \n",
            "_________________________________________________________________\n",
            "global_average_pooling2d_1 ( (None, 2048)              0         \n",
            "_________________________________________________________________\n",
            "dense_1 (Dense)              (None, 1024)              2098176   \n",
            "_________________________________________________________________\n",
            "classification (Dense)       (None, 3)                 3075      \n",
            "=================================================================\n",
            "Total params: 25,688,963\n",
            "Trainable params: 2,101,251\n",
            "Non-trainable params: 23,587,712\n",
            "_________________________________________________________________\n"
          ]
        }
      ],
      "execution_count": null,
      "metadata": {
        "colab": {
          "base_uri": "https://localhost:8080/"
        },
        "id": "XhG40Y8MO4M_",
        "outputId": "5d112dd9-2ce7-46b7-b55f-bdfbaa88bdd8"
      }
    },
    {
      "cell_type": "code",
      "source": [
        "# Set the model to use Adam optimizer , cross entropy loss, and track accuracy.\n",
        "# Since the dataset has multiple classes, we are using cross entropy loss.\n",
        "clf.compile(\n",
        "  optimizer=tf.keras.optimizers.Adam(),\n",
        "  loss='categorical_crossentropy' ,\n",
        "  metrics=['acc'])"
      ],
      "outputs": [],
      "execution_count": null,
      "metadata": {
        "id": "ydrgiqBkO4Jt"
      }
    },
    {
      "cell_type": "code",
      "source": [
        "# train the model for 5 epochs\n",
        "%%time\n",
        "image_data_gen = get_image_data_generator (preprocessing_function=tf.keras.applications.resnet50.preprocess_input)\n",
        "\n",
        "history = clf.fit(image_data_gen\n",
        "                        ,epochs=5\n",
        "                        ,workers=8\n",
        "                        )"
      ],
      "outputs": [
        {
          "output_type": "stream",
          "name": "stdout",
          "text": [
            "Found 3000 images belonging to 3 classes.\n",
            "Epoch 1/5\n",
            "94/94 [==============================] - 12s 130ms/step - loss: 0.5434 - acc: 0.8530\n",
            "Epoch 2/5\n",
            "94/94 [==============================] - 12s 130ms/step - loss: 0.1628 - acc: 0.9347\n",
            "Epoch 3/5\n",
            "94/94 [==============================] - 12s 131ms/step - loss: 0.1102 - acc: 0.9573\n",
            "Epoch 4/5\n",
            "94/94 [==============================] - 12s 131ms/step - loss: 0.0594 - acc: 0.9787\n",
            "Epoch 5/5\n",
            "94/94 [==============================] - 12s 130ms/step - loss: 0.0369 - acc: 0.9887\n",
            "CPU times: user 2min 4s, sys: 4.73 s, total: 2min 8s\n",
            "Wall time: 1min 12s\n"
          ]
        }
      ],
      "execution_count": null,
      "metadata": {
        "colab": {
          "base_uri": "https://localhost:8080/"
        },
        "id": "LtI98thsTACd",
        "outputId": "696682c5-2b27-4ae1-b9b2-59492a7793d5"
      }
    },
    {
      "cell_type": "code",
      "source": [
        "# save the model as `h5` format\n",
        "export_path = str(PROJECT_NAME)+\"/artifacts/model_ResNet50.h5\"\n",
        "export_path\n",
        "clf.save(export_path, save_format='h5')"
      ],
      "outputs": [],
      "execution_count": null,
      "metadata": {
        "id": "zgN5JOZrO33m"
      }
    },
    {
      "cell_type": "markdown",
      "source": [
        "### Model 3: MobileNetV2 (Final)\n",
        "On your own, train a model using MobileNetV2."
      ],
      "metadata": {
        "id": "WsF-EVy9Jlcv"
      }
    },
    {
      "cell_type": "code",
      "source": [
        "base_layers = tf.keras.applications.MobileNetV2(weights='imagenet',include_top=False,input_shape=IMAGE_SHAPE+(3,) )\n",
        "\n",
        "# Add new layers to be finetuned\n",
        "# The last layer, is the classification layer and should match the number of classes in the dataset. The activation should be softmax\n",
        "clf = tf.keras.Sequential([\n",
        "    base_layers\n",
        "    , tf.keras.layers.GlobalAveragePooling2D()\n",
        "    , tf.keras.layers.Dense(1024, activation='relu')\n",
        "    , tf.keras.layers.Dense(image_data_gen.num_classes , name='classification', activation='softmax')\n",
        "])\n",
        "\n",
        "\n"
      ],
      "outputs": [
        {
          "output_type": "stream",
          "name": "stdout",
          "text": [
            "Downloading data from https://storage.googleapis.com/tensorflow/keras-applications/mobilenet_v2/mobilenet_v2_weights_tf_dim_ordering_tf_kernels_1.0_224_no_top.h5\n",
            "9412608/9406464 [==============================] - 0s 0us/step\n"
          ]
        }
      ],
      "execution_count": null,
      "metadata": {
        "colab": {
          "base_uri": "https://localhost:8080/"
        },
        "id": "BaEH7fwGN4GW",
        "outputId": "dc1d7423-0cca-4ebc-a419-cb4911e7e4e3"
      }
    },
    {
      "cell_type": "code",
      "source": [
        "clf.summary()"
      ],
      "outputs": [
        {
          "output_type": "stream",
          "name": "stdout",
          "text": [
            "Model: \"sequential_2\"\n",
            "_________________________________________________________________\n",
            "Layer (type)                 Output Shape              Param #   \n",
            "=================================================================\n",
            "mobilenetv2_1.00_224 (Functi (None, 7, 7, 1280)        2257984   \n",
            "_________________________________________________________________\n",
            "global_average_pooling2d_2 ( (None, 1280)              0         \n",
            "_________________________________________________________________\n",
            "dense_2 (Dense)              (None, 1024)              1311744   \n",
            "_________________________________________________________________\n",
            "classification (Dense)       (None, 3)                 3075      \n",
            "=================================================================\n",
            "Total params: 3,572,803\n",
            "Trainable params: 3,538,691\n",
            "Non-trainable params: 34,112\n",
            "_________________________________________________________________\n"
          ]
        }
      ],
      "execution_count": null,
      "metadata": {
        "colab": {
          "base_uri": "https://localhost:8080/"
        },
        "id": "RCev3xjmOTNc",
        "outputId": "239833dd-5556-4547-8919-bf1b63f3af90"
      }
    },
    {
      "cell_type": "code",
      "source": [
        "# freezes the base layers\n",
        "base_layers.trainable = False"
      ],
      "outputs": [],
      "execution_count": null,
      "metadata": {
        "id": "optJBTxUOTEO"
      }
    },
    {
      "cell_type": "code",
      "source": [
        "clf.summary()"
      ],
      "outputs": [
        {
          "output_type": "stream",
          "name": "stdout",
          "text": [
            "Model: \"sequential_2\"\n",
            "_________________________________________________________________\n",
            "Layer (type)                 Output Shape              Param #   \n",
            "=================================================================\n",
            "mobilenetv2_1.00_224 (Functi (None, 7, 7, 1280)        2257984   \n",
            "_________________________________________________________________\n",
            "global_average_pooling2d_2 ( (None, 1280)              0         \n",
            "_________________________________________________________________\n",
            "dense_2 (Dense)              (None, 1024)              1311744   \n",
            "_________________________________________________________________\n",
            "classification (Dense)       (None, 3)                 3075      \n",
            "=================================================================\n",
            "Total params: 3,572,803\n",
            "Trainable params: 1,314,819\n",
            "Non-trainable params: 2,257,984\n",
            "_________________________________________________________________\n"
          ]
        }
      ],
      "execution_count": null,
      "metadata": {
        "colab": {
          "base_uri": "https://localhost:8080/"
        },
        "id": "jNzrVq7hOTAM",
        "outputId": "0a08a6cc-399a-4cce-b198-e9f9fe240fee"
      }
    },
    {
      "cell_type": "code",
      "source": [
        "clf.compile(\n",
        "  optimizer=tf.keras.optimizers.Adam(),\n",
        "  loss='categorical_crossentropy' ,\n",
        "  metrics=['acc'])"
      ],
      "outputs": [],
      "execution_count": null,
      "metadata": {
        "id": "4Uhjmw_UOYK_"
      }
    },
    {
      "cell_type": "code",
      "source": [
        "# train the model for 5 epochs\n",
        "%%time\n",
        "image_data_gen = get_image_data_generator (preprocessing_function=tf.keras.applications.mobilenet_v2.preprocess_input)\n",
        "\n",
        "history = clf.fit(image_data_gen\n",
        "                        ,epochs=5\n",
        "                        ,workers=8\n",
        "                        )"
      ],
      "outputs": [
        {
          "output_type": "stream",
          "name": "stdout",
          "text": [
            "Found 3000 images belonging to 3 classes.\n",
            "Epoch 1/5\n",
            "94/94 [==============================] - 10s 109ms/step - loss: 0.3470 - acc: 0.8747\n",
            "Epoch 2/5\n",
            "94/94 [==============================] - 10s 111ms/step - loss: 0.1376 - acc: 0.9473\n",
            "Epoch 3/5\n",
            "94/94 [==============================] - 11s 112ms/step - loss: 0.0880 - acc: 0.9707\n",
            "Epoch 4/5\n",
            "94/94 [==============================] - 11s 113ms/step - loss: 0.0473 - acc: 0.9843\n",
            "Epoch 5/5\n",
            "94/94 [==============================] - 10s 111ms/step - loss: 0.0189 - acc: 0.9967\n",
            "CPU times: user 1min 45s, sys: 3.52 s, total: 1min 48s\n",
            "Wall time: 59.9 s\n"
          ]
        }
      ],
      "execution_count": null,
      "metadata": {
        "colab": {
          "base_uri": "https://localhost:8080/"
        },
        "id": "wFD3f-AWOYHI",
        "outputId": "915dc101-9673-4123-d201-861fcfd1d6a3"
      }
    },
    {
      "cell_type": "code",
      "source": [
        "# save the model as `h5` format\n",
        "export_path = str(PROJECT_NAME)+\"/artifacts/model_MobileNet.h5\"\n",
        "export_path\n",
        "clf.save(export_path, save_format='h5')"
      ],
      "outputs": [],
      "execution_count": null,
      "metadata": {
        "id": "Gc44u0vyOYD1"
      }
    },
    {
      "cell_type": "code",
      "source": [],
      "outputs": [],
      "execution_count": null,
      "metadata": {
        "id": "BTAuI7VbOS1v"
      }
    },
    {
      "cell_type": "markdown",
      "source": [
        "## Fine tune model (OPTIONAL)\n",
        "\n",
        "The model accuracy can be further improved by\n",
        "- unfreezing the early layers, use [transfer learning](https://www.tensorflow.org/guide/keras/transfer_learning)\n",
        "- use [data augmentation](https://www.tensorflow.org/api_docs/python/tf/keras/preprocessing/image/ImageDataGenerator)"
      ],
      "metadata": {
        "id": "SG1yctSYSKTP"
      }
    },
    {
      "cell_type": "markdown",
      "source": [
        "# Time to Train"
      ],
      "metadata": {
        "id": "yMc4g4VJw9hA"
      }
    },
    {
      "cell_type": "code",
      "source": [
        "now2 = datetime.now()\n",
        "\n",
        "end_time = now2.strftime(\"%H:%M:%S\")\n",
        "print(\"End Time =\", end_time)"
      ],
      "outputs": [
        {
          "output_type": "stream",
          "name": "stdout",
          "text": [
            "End Time = 18:39:55\n"
          ]
        }
      ],
      "execution_count": null,
      "metadata": {
        "id": "tqKB6VX3Ssf8",
        "colab": {
          "base_uri": "https://localhost:8080/"
        },
        "outputId": "0655fdac-1e31-49c6-d3f2-65966a614ed2"
      }
    },
    {
      "cell_type": "code",
      "source": [
        "diff2=((now2-now1).total_seconds() )/ (60)\n",
        "print(\"Time to run (minutes): \", diff2)"
      ],
      "outputs": [
        {
          "output_type": "stream",
          "name": "stdout",
          "text": [
            "Time to run (minutes):  6.345421766666666\n"
          ]
        }
      ],
      "execution_count": null,
      "metadata": {
        "id": "eThpapNJxDET",
        "colab": {
          "base_uri": "https://localhost:8080/"
        },
        "outputId": "4bf04812-51e2-4247-f5eb-d86199df7154"
      }
    },
    {
      "cell_type": "markdown",
      "source": [
        "# Get Model Size"
      ],
      "metadata": {
        "id": "Bk6M8HvofvTR"
      }
    },
    {
      "cell_type": "code",
      "source": [
        "! du -h {PROJECT_NAME}/artifacts"
      ],
      "outputs": [
        {
          "output_type": "stream",
          "name": "stdout",
          "text": [
            "221M\tproject_food_dl/artifacts\n"
          ]
        }
      ],
      "execution_count": null,
      "metadata": {
        "id": "bWPA6uYlUyBV",
        "colab": {
          "base_uri": "https://localhost:8080/"
        },
        "outputId": "0fbca59f-e0c1-44fe-a5a8-8c86477a3166"
      }
    },
    {
      "cell_type": "code",
      "source": [
        "!ls {PROJECT_NAME}/artifacts/ -lah"
      ],
      "outputs": [
        {
          "output_type": "stream",
          "name": "stdout",
          "text": [
            "total 221M\n",
            "drwxr-xr-x 2 root root 4.0K Jan 16 18:39 .\n",
            "drwxr-xr-x 4 root root 4.0K Jan 16 18:34 ..\n",
            "-rw-r--r-- 1 root root   40 Jan 16 18:35 classes.json\n",
            "-rw-r--r-- 1 root root  24M Jan 16 18:39 model_MobileNet.h5\n",
            "-rw-r--r-- 1 root root 115M Jan 16 18:38 model_ResNet50.h5\n",
            "-rw-r--r-- 1 root root  83M Jan 16 18:37 model_VGG19.h5\n"
          ]
        }
      ],
      "execution_count": null,
      "metadata": {
        "id": "fbIPxgoN3zvd",
        "colab": {
          "base_uri": "https://localhost:8080/"
        },
        "outputId": "33620f80-15cb-4bde-d960-87851cc10d17"
      }
    },
    {
      "cell_type": "markdown",
      "source": [
        "# Compare Models\n",
        "\n",
        "- Dataset:  Food\n",
        "- Classes: 3\n",
        "- Total images: 3000\n",
        "- Batch size: 32\n",
        "\n",
        "| Model  | Trainable Params| Non-trainable Params | Time (hh:mm:ss) [a]| Accuracy | Epochs | Model Size [b]\n",
        "|---|---:|---:|---:|---:| ---:|---:|\n",
        "| VGG19| 528,387   | 20,024,384 | 00:01:31 | 98.3% | 5 | 83M\n",
        "| ResNet50   | 2,101,251   | 23,587,712 |  00:01:12 | 98.8% | 5 | 115M\n",
        "| MobileNetV2  | 1,314,819  | 2,257,984 |   00:00:59 | 99.6% | 5 | 24M\n",
        "| ResNet50_ft [c]  | xxx  | xxx | xx:xx:xx   | xx.x% | xx | xxM\n",
        "\n",
        "\n",
        "\n",
        "NOTES:  \n",
        "- [a] If wall clock time < CPU time, then you're executing a program in parallel.\n",
        "- [b] model size is size of output file\n",
        "- [c] ft = fine-tuned\n"
      ],
      "metadata": {
        "id": "bILr-eFU-wUG"
      }
    },
    {
      "cell_type": "markdown",
      "source": [
        "# Model Prediction"
      ],
      "metadata": {
        "id": "v_gyW7wtzt5W"
      }
    },
    {
      "cell_type": "code",
      "source": [
        "model_path = str(PROJECT_NAME)+\"/artifacts/model_MobileNet.h5\"\n",
        "clf_final = tf.keras.models.load_model(model_path)"
      ],
      "outputs": [],
      "execution_count": null,
      "metadata": {
        "id": "8-6r0UL5Z-ZB"
      }
    },
    {
      "cell_type": "code",
      "source": [
        "with open(f\"{PROJECT_NAME}/artifacts/classes.json\",'r') as f:\n",
        "  list_of_classes = json.load(f)\n",
        "  #content = f.read()"
      ],
      "outputs": [],
      "execution_count": null,
      "metadata": {
        "id": "vEO425ndbBS7"
      }
    },
    {
      "cell_type": "code",
      "source": [
        "list_of_classes"
      ],
      "outputs": [
        {
          "output_type": "execute_result",
          "execution_count": 75,
          "data": {
            "text/plain": "['apple_pie', 'caesar_salad', 'falafel']"
          },
          "metadata": {
            "tags": []
          }
        }
      ],
      "execution_count": null,
      "metadata": {
        "colab": {
          "base_uri": "https://localhost:8080/"
        },
        "id": "zvrcsqSmbYac",
        "outputId": "b6d5a971-5202-43a6-f2be-95a363c44ed6"
      }
    },
    {
      "cell_type": "code",
      "source": [
        "# if you want to delete a directory from past runs\n",
        "!rm -rf {PROJECT_NAME}/test_image"
      ],
      "outputs": [],
      "execution_count": null,
      "metadata": {
        "id": "WWK6eUGw5T4n"
      }
    },
    {
      "cell_type": "code",
      "source": [
        "# create a sub-directory for data\n",
        "!mkdir -p {PROJECT_NAME}/test_image"
      ],
      "outputs": [],
      "execution_count": null,
      "metadata": {
        "id": "WUnud1rfurW-"
      }
    },
    {
      "cell_type": "code",
      "source": [
        "!wget https://natashaskitchen.com/wp-content/uploads/2019/01/Caesar-Salad-Recipe-3.jpg -P {PROJECT_NAME}/test_image -O {PROJECT_NAME}/test_image/caesar_salad.jpg"
      ],
      "outputs": [
        {
          "output_type": "stream",
          "name": "stdout",
          "text": [
            "--2021-01-16 18:45:41--  https://natashaskitchen.com/wp-content/uploads/2019/01/Caesar-Salad-Recipe-3.jpg\n",
            "Resolving natashaskitchen.com (natashaskitchen.com)... 172.67.39.135, 104.22.26.177, 104.22.27.177, ...\n",
            "Connecting to natashaskitchen.com (natashaskitchen.com)|172.67.39.135|:443... connected.\n",
            "HTTP request sent, awaiting response... 200 OK\n",
            "Length: 172641 (169K) [image/jpeg]\n",
            "Saving to: ‘project_food_dl/test_image/caesar_salad.jpg’\n",
            "\n",
            "\rcaesar_salad.jpg      0%[                    ]       0  --.-KB/s               \r",
            "caesar_salad.jpg    100%[===================>] 168.59K  --.-KB/s    in 0.02s   \n",
            "\n",
            "2021-01-16 18:45:42 (10.9 MB/s) - ‘project_food_dl/test_image/caesar_salad.jpg’ saved [172641/172641]\n",
            "\n"
          ]
        }
      ],
      "execution_count": null,
      "metadata": {
        "colab": {
          "base_uri": "https://localhost:8080/"
        },
        "id": "m-z52JLTZQMb",
        "outputId": "4216af80-42e3-4b72-b98c-7dd1f6333661"
      }
    },
    {
      "cell_type": "code",
      "source": [
        "!wget https://upload.wikimedia.org/wikipedia/commons/9/99/Black_square.jpg -P {PROJECT_NAME}/test_image -O {PROJECT_NAME}/test_image/black_square.jpg"
      ],
      "outputs": [
        {
          "output_type": "stream",
          "name": "stdout",
          "text": [
            "--2021-01-16 18:45:42--  https://upload.wikimedia.org/wikipedia/commons/9/99/Black_square.jpg\n",
            "Resolving upload.wikimedia.org (upload.wikimedia.org)... 198.35.26.112, 2620:0:863:ed1a::2:b\n",
            "Connecting to upload.wikimedia.org (upload.wikimedia.org)|198.35.26.112|:443... connected.\n",
            "HTTP request sent, awaiting response... 200 OK\n",
            "Length: 5450 (5.3K) [image/jpeg]\n",
            "Saving to: ‘project_food_dl/test_image/black_square.jpg’\n",
            "\n",
            "black_square.jpg    100%[===================>]   5.32K  --.-KB/s    in 0s      \n",
            "\n",
            "2021-01-16 18:45:42 (187 MB/s) - ‘project_food_dl/test_image/black_square.jpg’ saved [5450/5450]\n",
            "\n"
          ]
        }
      ],
      "execution_count": null,
      "metadata": {
        "id": "CsZJ0GOBHVQ_",
        "colab": {
          "base_uri": "https://localhost:8080/"
        },
        "outputId": "2618f8ca-cbc4-4b76-9175-4b8ee163d552"
      }
    },
    {
      "cell_type": "code",
      "source": [
        "#\n",
        "!wget https://image.shutterstock.com/image-photo/brown-light-wooden-round-dining-260nw-588358070.jpg -P {PROJECT_NAME}/test_image  -O {PROJECT_NAME}/test_image/table.jpg\n"
      ],
      "outputs": [
        {
          "output_type": "stream",
          "name": "stdout",
          "text": [
            "--2021-01-16 18:45:44--  https://image.shutterstock.com/image-photo/brown-light-wooden-round-dining-260nw-588358070.jpg\n",
            "Resolving image.shutterstock.com (image.shutterstock.com)... 23.44.161.25\n",
            "Connecting to image.shutterstock.com (image.shutterstock.com)|23.44.161.25|:443... connected.\n",
            "HTTP request sent, awaiting response... 200 OK\n",
            "Length: 8753 (8.5K) [image/jpeg]\n",
            "Saving to: ‘project_food_dl/test_image/table.jpg’\n",
            "\n",
            "table.jpg           100%[===================>]   8.55K  --.-KB/s    in 0s      \n",
            "\n",
            "2021-01-16 18:45:44 (140 MB/s) - ‘project_food_dl/test_image/table.jpg’ saved [8753/8753]\n",
            "\n"
          ]
        }
      ],
      "execution_count": null,
      "metadata": {
        "id": "BbYvKQOzGfRO",
        "colab": {
          "base_uri": "https://localhost:8080/"
        },
        "outputId": "07532b86-a3e1-4bf2-8f68-f67c2dcb70df"
      }
    },
    {
      "cell_type": "code",
      "source": [
        "img_path = f\"{PROJECT_NAME}/test_image/caesar_salad.jpg\"\n",
        "#img_path = f\"{PROJECT_NAME}/test_image/table.jpg\"\n",
        "#img_path = f\"{PROJECT_NAME}/test_image/black_square.jpg\"\n",
        "\n",
        "img_path"
      ],
      "outputs": [
        {
          "output_type": "execute_result",
          "execution_count": 81,
          "data": {
            "application/vnd.google.colaboratory.intrinsic+json": {
              "type": "string"
            },
            "text/plain": "'project_food_dl/test_image/caesar_salad.jpg'"
          },
          "metadata": {
            "tags": []
          }
        }
      ],
      "execution_count": null,
      "metadata": {
        "id": "V0nAfbdGHfDV",
        "colab": {
          "base_uri": "https://localhost:8080/",
          "height": 35
        },
        "outputId": "a1309951-da95-4b4c-dde6-4ad806cce742"
      }
    },
    {
      "cell_type": "code",
      "source": [
        "tf.keras.preprocessing.image.load_img(img_path, target_size = (IMG_HEIGHT, IMG_WIDTH))\n"
      ],
      "outputs": [
        {
          "output_type": "execute_result",
          "execution_count": 82,
          "data": {
            "image/png": "[encoded data removed]",
            "text/plain": "<PIL.Image.Image image mode=RGB size=224x224 at 0x7FDCC8ED8320>"
          },
          "metadata": {
            "tags": []
          }
        }
      ],
      "execution_count": null,
      "metadata": {
        "id": "qLM5JxwEsih9",
        "colab": {
          "base_uri": "https://localhost:8080/",
          "height": 241
        },
        "outputId": "9e4cfd4e-37f0-42bb-84fd-3310e32fdef3"
      }
    },
    {
      "cell_type": "code",
      "source": [
        "def load_img_predict(img_path):\n",
        "    img = tf.keras.preprocessing.image.load_img(img_path, target_size = (IMG_HEIGHT, IMG_WIDTH))\n",
        "    img = tf.keras.preprocessing.image.img_to_array(img)\n",
        "    img = tf.keras.applications.mobilenet_v2.preprocess_input(img)\n",
        "\n",
        "    img = np.expand_dims(img, axis = 0)\n",
        "\n",
        "    return img"
      ],
      "outputs": [],
      "execution_count": null,
      "metadata": {
        "id": "3Eynl7n2simr"
      }
    },
    {
      "cell_type": "code",
      "source": [
        "clf_final.summary()"
      ],
      "outputs": [
        {
          "output_type": "stream",
          "name": "stdout",
          "text": [
            "Model: \"sequential_2\"\n",
            "_________________________________________________________________\n",
            "Layer (type)                 Output Shape              Param #   \n",
            "=================================================================\n",
            "mobilenetv2_1.00_224 (Functi (None, 7, 7, 1280)        2257984   \n",
            "_________________________________________________________________\n",
            "global_average_pooling2d_2 ( (None, 1280)              0         \n",
            "_________________________________________________________________\n",
            "dense_2 (Dense)              (None, 1024)              1311744   \n",
            "_________________________________________________________________\n",
            "classification (Dense)       (None, 3)                 3075      \n",
            "=================================================================\n",
            "Total params: 3,572,803\n",
            "Trainable params: 1,314,819\n",
            "Non-trainable params: 2,257,984\n",
            "_________________________________________________________________\n"
          ]
        }
      ],
      "execution_count": null,
      "metadata": {
        "id": "tOfTwls9jJKW",
        "colab": {
          "base_uri": "https://localhost:8080/"
        },
        "outputId": "6e0ea107-ee8c-4ff2-db5f-a7279e922a1e"
      }
    },
    {
      "cell_type": "code",
      "source": [
        "def predict_image(img_path,classifier):\n",
        "    img = load_img_predict(img_path)\n",
        "    res = clf_final.predict(img)\n",
        "\n",
        "    res = sorted (\n",
        "        list(zip (\n",
        "            list_of_classes\n",
        "            , np.squeeze(res)\n",
        "         )\n",
        "        )\n",
        "     , key=lambda x: x[1]\n",
        "     , reverse=True\n",
        "    )\n",
        "\n",
        "    return res"
      ],
      "outputs": [],
      "execution_count": null,
      "metadata": {
        "id": "8xyUQ-MxsoNN"
      }
    },
    {
      "cell_type": "code",
      "source": [
        "predict_image(img_path,clf_final)[:15]"
      ],
      "outputs": [
        {
          "output_type": "execute_result",
          "execution_count": 86,
          "data": {
            "text/plain": "[('caesar_salad', 0.999899),\n ('falafel', 9.851342e-05),\n ('apple_pie', 2.5378667e-06)]"
          },
          "metadata": {
            "tags": []
          }
        }
      ],
      "execution_count": null,
      "metadata": {
        "id": "HSU62bAHsoUt",
        "colab": {
          "base_uri": "https://localhost:8080/"
        },
        "outputId": "19a53d72-4a65-4d2d-98f1-e2c35f50a65c"
      }
    },
    {
      "cell_type": "code",
      "source": [],
      "outputs": [],
      "execution_count": null,
      "metadata": {
        "id": "CU9ACHvSIEnZ"
      }
    },
    {
      "cell_type": "code",
      "source": [],
      "outputs": [],
      "execution_count": null,
      "metadata": {
        "id": "xVz7Xf40tPPP"
      }
    },
    {
      "cell_type": "markdown",
      "source": [
        "# Download Assets\n",
        "download model and classes.json"
      ],
      "metadata": {
        "id": "oh76dgMeVIDD"
      }
    },
    {
      "cell_type": "code",
      "source": [
        "!zip -r {PROJECT_NAME}/artifacts/artifacts.zip {PROJECT_NAME}/artifacts/"
      ],
      "outputs": [
        {
          "output_type": "stream",
          "name": "stdout",
          "text": [
            "  adding: project_food_dl/artifacts/ (stored 0%)\n",
            "  adding: project_food_dl/artifacts/classes.json (deflated 5%)\n",
            "  adding: project_food_dl/artifacts/model_ResNet50.h5 (deflated 7%)\n",
            "  adding: project_food_dl/artifacts/model_MobileNet.h5 (deflated 7%)\n",
            "  adding: project_food_dl/artifacts/model_VGG19.h5 (deflated 7%)\n"
          ]
        }
      ],
      "execution_count": null,
      "metadata": {
        "id": "jqxTNOVCoHCc",
        "colab": {
          "base_uri": "https://localhost:8080/"
        },
        "outputId": "019f5cc7-2f9d-429f-afa4-fec2c38cd045"
      }
    },
    {
      "cell_type": "code",
      "source": [
        "from google.colab import files\n",
        "files.download(str(str(PROJECT_NAME)+\"/artifacts/artifacts.zip\"))"
      ],
      "outputs": [
        {
          "output_type": "display_data",
          "data": {
            "application/javascript": "\n    async function download(id, filename, size) {\n      if (!google.colab.kernel.accessAllowed) {\n        return;\n      }\n      const div = document.createElement('div');\n      const label = document.createElement('label');\n      label.textContent = `Downloading \"${filename}\": `;\n      div.appendChild(label);\n      const progress = document.createElement('progress');\n      progress.max = size;\n      div.appendChild(progress);\n      document.body.appendChild(div);\n\n      const buffers = [];\n      let downloaded = 0;\n\n      const channel = await google.colab.kernel.comms.open(id);\n      // Send a message to notify the kernel that we're ready.\n      channel.send({})\n\n      for await (const message of channel.messages) {\n        // Send a message to notify the kernel that we're ready.\n        channel.send({})\n        if (message.buffers) {\n          for (const buffer of message.buffers) {\n            buffers.push(buffer);\n            downloaded += buffer.byteLength;\n            progress.value = downloaded;\n          }\n        }\n      }\n      const blob = new Blob(buffers, {type: 'application/binary'});\n      const a = document.createElement('a');\n      a.href = window.URL.createObjectURL(blob);\n      a.download = filename;\n      div.appendChild(a);\n      a.click();\n      div.remove();\n    }\n  ",
            "text/plain": "<IPython.core.display.Javascript object>"
          },
          "metadata": {
            "tags": []
          }
        },
        {
          "output_type": "display_data",
          "data": {
            "application/javascript": "download(\"download_10fed7a1-13aa-4bd8-9594-5e66d8e0f780\", \"artifacts.zip\", 214926969)",
            "text/plain": "<IPython.core.display.Javascript object>"
          },
          "metadata": {
            "tags": []
          }
        }
      ],
      "execution_count": null,
      "metadata": {
        "id": "63KIL2HndL-c",
        "colab": {
          "base_uri": "https://localhost:8080/",
          "height": 17
        },
        "outputId": "4375d5a8-63d8-4c7b-cf32-f015d53126c5"
      }
    },
    {
      "cell_type": "code",
      "source": [],
      "outputs": [],
      "execution_count": null,
      "metadata": {
        "id": "GVrj_UAD-xDr"
      }
    }
  ],
  "metadata": {
    "colab": {
      "provenance": []
    },
    "kernelspec": {
      "name": "python3",
      "display_name": "Python 3"
    },
    "accelerator": "GPU",
    "nteract": {
      "version": "0.27.0"
    }
  },
  "nbformat": 4,
  "nbformat_minor": 0
}